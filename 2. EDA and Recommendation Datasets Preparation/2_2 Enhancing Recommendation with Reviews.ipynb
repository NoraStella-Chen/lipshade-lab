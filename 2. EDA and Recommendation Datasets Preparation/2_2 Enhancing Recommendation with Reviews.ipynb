{
 "cells": [
  {
   "cell_type": "code",
   "execution_count": null,
   "id": "ba46cc55-089e-4a33-a634-7308aeb2b0d6",
   "metadata": {
    "tags": []
   },
   "outputs": [],
   "source": [
    "# Install ollama on Greatlake\n",
    "\n",
    "#We don't have admin access on Greatlake, thus using binaries to run ollama.\n",
    "\n",
    "#Step 1: download ollama binary\n",
    "#!curl -L https://ollama.com/download/ollama-linux-amd64.tgz -o ollama-linux-amd64.tgz\n",
    "\n",
    "#Step 2: unzip the binary\n",
    "# !mkdir -p $HOME/ollama\n",
    "# !tar -C $HOME/ollama -xzf ollama-linux-amd64.tgz\n",
    "# !export PATH=$HOME/ollama/bin:$PATH\n",
    "\n",
    "#Step 3: expose binary to system path for running\n",
    "!export PATH=$HOME/ollama/bin:$PATH\n",
    "!export LD_LIBRARY_PATH=$HOME/ollama/lib/ollama:$LD_LIBRARY_PATH"
   ]
  },
  {
   "cell_type": "code",
   "execution_count": null,
   "id": "16d9a7d5-2a0f-4a6d-919d-51e886a7dd00",
   "metadata": {
    "tags": []
   },
   "outputs": [],
   "source": [
    "import sys\n",
    "#ensure ollama can be found in python\n",
    "#since ollama is installed using non-admin access on Greatlake\n",
    "sys.path.append(\"~/.local/lib/python3.11/site-packages/\")\n",
    "import ollama\n",
    "import json\n",
    "import pickle\n",
    "import pandas as pd\n",
    "import numpy as np\n",
    "import matplotlib.pyplot as plt\n",
    "import seaborn as sns\n",
    "from tqdm import tqdm\n",
    "sns.set_theme(style=\"ticks\")\n",
    "import requests\n",
    "from pandarallel import pandarallel\n",
    "import re\n",
    "pandarallel.initialize(progress_bar=True)"
   ]
  },
  {
   "cell_type": "code",
   "execution_count": null,
   "id": "1002cc92-2c4f-4dd2-be4d-91470729bfb3",
   "metadata": {
    "tags": []
   },
   "outputs": [],
   "source": [
    "# Ollama default llama3.2:3b context window is only 2k\n",
    "# Here we increase the context window to 128k\n",
    "\n",
    "# Firstly run in terminal: ollama serve\n",
    "\n",
    "!ollama show llama3.2:3b --modelfile > settings.txt\n",
    "\n",
    "# Add parameters\n",
    "!echo \"PARAMETER num_ctx 131072\" >> settings.txt\n",
    "\n",
    "# Create new model with updated settings\n",
    "!ollama create llama3.2-large-ctx -f settings.txt"
   ]
  },
  {
   "cell_type": "code",
   "execution_count": null,
   "id": "027d15eb-e292-4b6b-8bb0-6fe925179d81",
   "metadata": {
    "tags": []
   },
   "outputs": [],
   "source": [
    "pd.set_option('display.max_colwidth', None)\n",
    "pd.set_option('display.max_column', 99)"
   ]
  },
  {
   "cell_type": "code",
   "execution_count": null,
   "id": "72db2a5c-b734-477b-badc-428e82f03889",
   "metadata": {
    "tags": []
   },
   "outputs": [],
   "source": [
    "model = 'llama3.2-large-ctx'"
   ]
  },
  {
   "cell_type": "code",
   "execution_count": null,
   "id": "b66ad460-f2fe-4519-ae34-0fd7f10343e1",
   "metadata": {
    "tags": []
   },
   "outputs": [],
   "source": [
    "# Make an example request to test the model\n",
    "response = ollama.chat(model=model, messages=[\n",
    "  {\n",
    "    'role': 'user',\n",
    "    'content': 'What is this RGB color 97,56,57',\n",
    "  },\n",
    "],\n",
    ")\n",
    "print(response['message']['content'])"
   ]
  },
  {
   "cell_type": "markdown",
   "id": "ebd6e95f-0972-403a-b1ce-3ba8c96f4f30",
   "metadata": {},
   "source": [
    "# Get All Recommendation datasets and Reviews"
   ]
  },
  {
   "cell_type": "code",
   "execution_count": null,
   "id": "b7384586-f09c-4bbe-9a41-904f28cb63b0",
   "metadata": {
    "tags": []
   },
   "outputs": [],
   "source": [
    "df_reviews = pd.read_pickle('data/product_sku_info_with_rgb_review_v3.pkl')"
   ]
  },
  {
   "cell_type": "code",
   "execution_count": null,
   "id": "8f30da3f-0f9d-4a0d-8ee3-4d9f0479d297",
   "metadata": {
    "tags": []
   },
   "outputs": [],
   "source": [
    "df_selected1 = pd.read_excel('recommendation_datasets/expertRecommendation_top_10_skus_per_RBG.xlsx')\n",
    "df_selected2 = pd.read_excel('recommendation_datasets/colorClusterRecommendation_top_20_skus_per_colorCluster.xlsx')\n",
    "df_selected3 = pd.read_excel('recommendation_datasets/skinToneRecommendation_top_20_skus_per_skinTone.xlsx')\n",
    "df_selected = pd.concat([df_selected1,df_selected2,df_selected3])"
   ]
  },
  {
   "cell_type": "code",
   "execution_count": null,
   "id": "7fbd4ddd-4d05-4928-a075-d3ee36456634",
   "metadata": {
    "tags": []
   },
   "outputs": [],
   "source": [
    "filter_sku_id = df_selected['skuID'].astype(str).unique()"
   ]
  },
  {
   "cell_type": "code",
   "execution_count": null,
   "id": "60a67425-a0bd-4e42-a1f0-c49b85854401",
   "metadata": {
    "tags": []
   },
   "outputs": [],
   "source": [
    "df_reviews_selected = df_reviews.loc[df_reviews['productID'].isin(df_selected.productID) & df_reviews['skuID'].isin(filter_sku_id)]"
   ]
  },
  {
   "cell_type": "code",
   "execution_count": null,
   "id": "75fb8946-a967-42c2-8a9e-a3befc142457",
   "metadata": {
    "tags": []
   },
   "outputs": [],
   "source": [
    "# Total SKU count\n",
    "df_reviews_selected['skuID'].nunique()"
   ]
  },
  {
   "cell_type": "code",
   "execution_count": null,
   "id": "4296f842-953d-4c83-ae66-1e76917e6fd0",
   "metadata": {
    "tags": []
   },
   "outputs": [],
   "source": [
    "# Total Product Count\n",
    "df_reviews_selected['productID'].nunique()"
   ]
  },
  {
   "cell_type": "code",
   "execution_count": null,
   "id": "20d94d14-3258-4e83-8e0c-19983aae8747",
   "metadata": {
    "tags": []
   },
   "outputs": [],
   "source": [
    "# Aggregate all reviews at SKU level\n",
    "df_reviews_agg_product = df_reviews_selected.groupby(['productID','skuID'])[['ReviewText']].sum().reset_index()"
   ]
  },
  {
   "cell_type": "code",
   "execution_count": null,
   "id": "e3e5cce4-e054-44fe-a90e-cfd62292beb4",
   "metadata": {
    "tags": []
   },
   "outputs": [],
   "source": [
    "df_reviews_agg_product.shape"
   ]
  },
  {
   "cell_type": "markdown",
   "id": "74bc0837-2bc3-4f5c-8975-032958cd5d71",
   "metadata": {},
   "source": [
    "# Helper Functions"
   ]
  },
  {
   "cell_type": "code",
   "execution_count": null,
   "id": "4aeb864d-cc42-426c-b7b4-8c735b205060",
   "metadata": {
    "tags": []
   },
   "outputs": [],
   "source": [
    "def clean_response(text):\n",
    "    # llama generated response has unuseful text\n",
    "    # We tried to control this in prompt engineering\n",
    "    # However, there are still cases LLM cannot follow instructions\n",
    "    # Here we clean the text up\n",
    "    cleaned = re.sub(r'^Here.*\\n?', '', text, flags=re.MULTILINE)\n",
    "    cleaned = re.sub(r'^Customer Review.*\\n?', '', text, flags=re.MULTILINE)\n",
    "    cleaned = re.sub(r'^------.*\\n?', '', text, flags=re.MULTILINE)\n",
    "    cleaned = cleaned.strip()\n",
    "    cleaned = cleaned.strip('\\n')\n",
    "    cleaned = re.sub(r'Please note that.*\\n?', '', text, flags=re.MULTILINE)\n",
    "    cleaned = re.sub(r'here is.*\\n?', '', text, flags=re.MULTILINE)\n",
    "    return cleaned"
   ]
  },
  {
   "cell_type": "markdown",
   "id": "53ed90d3-2e5e-4753-8133-ad1e9d841467",
   "metadata": {},
   "source": [
    "# Generate Product level Reviews"
   ]
  },
  {
   "cell_type": "code",
   "execution_count": null,
   "id": "5caf274f-6248-4eba-839c-52d73b5d0e53",
   "metadata": {
    "tags": []
   },
   "outputs": [],
   "source": [
    "prompt_product = '''\n",
    "\n",
    "Provide the reviews as input above\n",
    "\n",
    "\n",
    "-------------------\n",
    "Role: You are a professional sales and marketing writer specializing in creating friendly, objective, and engaging lipstick product recommendations for customers.\n",
    "\n",
    "Task: Summarize the general product feedback from customer reviews of a lipstick product.\n",
    "\n",
    "Input Details:\n",
    "\n",
    "Customer reviews contain general product feedback and may also include specific comments linked to skin tones.\n",
    "Output Requirements:\n",
    "Each feedback entry should consist of short and concise key phrases, starting with a consistent and suitable emoji that matches the content of the phrase (e.g., 👍 for positive feedback, 🎨 for color-related comments, 💄 for application, etc.).\n",
    "Formatting Example:\n",
    "\"\"\"\n",
    "👍 Beautifully pigmented and long-lasting.\n",
    "💄 Glides smoothly for easy application.\n",
    "\"\"\"\n",
    "Additional Notes:\n",
    "Only output the summarized phrases as plain text, with no additional explanation or introductory text.\n",
    "Ensure feedback is concise and reflects key customer sentiments.\n",
    "'''"
   ]
  },
  {
   "cell_type": "code",
   "execution_count": null,
   "id": "2d91c04f-ac95-4c9b-b107-010dc078da9f",
   "metadata": {
    "tags": []
   },
   "outputs": [],
   "source": [
    "# Define a function to perform sentiment analysis using Ollama's API\n",
    "def get_sentiment_product(review_text):\n",
    "    response = ollama.chat(model=model, messages=[\n",
    "      {\n",
    "        'temperature':0.1,\n",
    "          'top_p':0.9,\n",
    "          'role': 'user',\n",
    "          'content':review_text+prompt_product,\n",
    "      },\n",
    "    ])\n",
    "    return response['message']['content']"
   ]
  },
  {
   "cell_type": "code",
   "execution_count": null,
   "id": "17693128-8b64-4311-bba4-ddc633606785",
   "metadata": {
    "tags": []
   },
   "outputs": [],
   "source": [
    "## Uncomment to Test the code with small data\n",
    "# df_reviews_agg_product['ReviewText'].head(5).parallel_apply(get_sentiment_product)"
   ]
  },
  {
   "cell_type": "code",
   "execution_count": null,
   "id": "1e73597c-3afd-469a-92b7-5460ceeaf635",
   "metadata": {
    "tags": []
   },
   "outputs": [],
   "source": [
    "# Run on all SKUs (45 mins long with 3 V100 GPUs)\n",
    "df_reviews_agg_product['Sentiment'] = df_reviews_agg_product['ReviewText'].parallel_apply(get_sentiment_product)"
   ]
  },
  {
   "cell_type": "code",
   "execution_count": null,
   "id": "fcd91bb5-9dc6-42f7-b11b-642dad461de0",
   "metadata": {
    "tags": []
   },
   "outputs": [],
   "source": [
    "## Uncomment to save the data on disk drive\n",
    "# df_reviews_agg_product.to_pickle('data/product_level_reviews_summarized.pkl')"
   ]
  },
  {
   "cell_type": "code",
   "execution_count": null,
   "id": "cf2ee9e3-b420-4cfa-99e9-546dfbb5e5c7",
   "metadata": {
    "tags": []
   },
   "outputs": [],
   "source": [
    "# Clean the Sentiment output\n",
    "df_reviews_agg_product['Sentiment'] = df_reviews_agg_product['Sentiment'].apply(clean_response)"
   ]
  },
  {
   "cell_type": "markdown",
   "id": "9de290fa-0d4b-4011-acdf-c3c395c9517a",
   "metadata": {},
   "source": [
    "# Add the Sentiment column to Recommendation datasets"
   ]
  },
  {
   "cell_type": "code",
   "execution_count": null,
   "id": "6f8b69b2-af43-4da2-8083-6427395c2d05",
   "metadata": {
    "tags": []
   },
   "outputs": [],
   "source": [
    "df_reviews_agg_product.drop(columns=['ReviewText'],inplace=True)"
   ]
  },
  {
   "cell_type": "code",
   "execution_count": null,
   "id": "56acba91-e6db-4b50-9743-c02dc4a20ebe",
   "metadata": {
    "tags": []
   },
   "outputs": [],
   "source": [
    "df_reviews_agg_product['skuID'] = df_reviews_agg_product.skuID.astype(int)"
   ]
  },
  {
   "cell_type": "code",
   "execution_count": null,
   "id": "f1a16d90-0af5-485c-a8da-90eca6296ad4",
   "metadata": {
    "tags": []
   },
   "outputs": [],
   "source": [
    "df_selected1.merge(df_reviews_agg_product, on =['productID','skuID'],how='left').to_excel('recommendation_datasets/expertRecommendation_top_10_skus_per_RBG_w_review_summarized.xlsx')\n",
    "df_selected2.merge(df_reviews_agg_product, on =['productID','skuID'],how='left').to_excel('recommendation_datasets/colorClusterRecommendation_top_20_skus_per_colorCluster_w_review_summarized.xlsx')\n",
    "df_selected3.merge(df_reviews_agg_product, on =['productID','skuID'],how='left').to_excel('recommendation_datasets/skinToneRecommendation_top_20_skus_per_skinTone_w_review_summarized.xlsx')"
   ]
  }
 ],
 "metadata": {
  "kernelspec": {
   "display_name": "Python 3 (ipykernel)",
   "language": "python",
   "name": "python3"
  },
  "language_info": {
   "codemirror_mode": {
    "name": "ipython",
    "version": 3
   },
   "file_extension": ".py",
   "mimetype": "text/x-python",
   "name": "python",
   "nbconvert_exporter": "python",
   "pygments_lexer": "ipython3",
   "version": "3.11.7"
  }
 },
 "nbformat": 4,
 "nbformat_minor": 5
}
